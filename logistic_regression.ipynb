{
 "cells": [
  {
   "cell_type": "code",
   "execution_count": null,
   "id": "f336b39f",
   "metadata": {},
   "outputs": [
    {
     "name": "stderr",
     "output_type": "stream",
     "text": [
      "C:\\Users\\Andrius\\AppData\\Local\\Temp\\ipykernel_3076\\2750041273.py:8: SettingWithCopyWarning: \n",
      "A value is trying to be set on a copy of a slice from a DataFrame.\n",
      "Try using .loc[row_indexer,col_indexer] = value instead\n",
      "\n",
      "See the caveats in the documentation: https://pandas.pydata.org/pandas-docs/stable/user_guide/indexing.html#returning-a-view-versus-a-copy\n",
      "  df_gt['diagnostic'] = (df_gt['diagnostic'] == 'MEL').astype(int)\n"
     ]
    },
    {
     "data": {
      "text/plain": [
       "52"
      ]
     },
     "execution_count": 28,
     "metadata": {},
     "output_type": "execute_result"
    }
   ],
   "source": [
    "import pandas as pd\n",
    "features = \"./result/masked_out_images/extracted_features.csv\"\n",
    "ground_truth = \"dataset.csv\"\n",
    "\n",
    "df = pd.read_csv(features)\n",
    "df2 = pd.read_csv(ground_truth)\n",
    "\n",
    "df_f = df[['asymmetry', 'compactness', 'irregular_pigmentation']]\n",
    "df_gt = df2[['diagnostic', 'biopsed']]\n",
    "\n",
    "df_gt['diagnostic'] = (df_gt['diagnostic'] == 'MEL').astype(int)\n",
    "mel_only = df_gt[df_gt['diagnostic'] == 1]\n",
    "\n",
    "mel_only\n",
    "len(mel_only)"
   ]
  }
 ],
 "metadata": {
  "kernelspec": {
   "display_name": "base",
   "language": "python",
   "name": "python3"
  },
  "language_info": {
   "codemirror_mode": {
    "name": "ipython",
    "version": 3
   },
   "file_extension": ".py",
   "mimetype": "text/x-python",
   "name": "python",
   "nbconvert_exporter": "python",
   "pygments_lexer": "ipython3",
   "version": "3.12.7"
  }
 },
 "nbformat": 4,
 "nbformat_minor": 5
}
