{
 "cells": [
  {
   "cell_type": "markdown",
   "id": "7e417d37",
   "metadata": {},
   "source": [
    "Sorting images to cancerous and non cancerous + \n",
    "\n",
    "checking for duplicates +\n",
    "\n",
    "number of cancerous and non-cancerous"
   ]
  },
  {
   "cell_type": "code",
   "execution_count": 55,
   "id": "3251383e",
   "metadata": {},
   "outputs": [
    {
     "name": "stdout",
     "output_type": "stream",
     "text": [
      "Total: 2298, no uplicates: 2298\n",
      "Cancerous: 1089, non-cancerous: 1209, sum : 2298\n",
      "\n"
     ]
    },
    {
     "name": "stderr",
     "output_type": "stream",
     "text": [
      "C:\\Users\\Andrius\\AppData\\Local\\Temp\\ipykernel_3076\\3075891304.py:7: SettingWithCopyWarning: \n",
      "A value is trying to be set on a copy of a slice from a DataFrame.\n",
      "Try using .loc[row_indexer,col_indexer] = value instead\n",
      "\n",
      "See the caveats in the documentation: https://pandas.pydata.org/pandas-docs/stable/user_guide/indexing.html#returning-a-view-versus-a-copy\n",
      "  df_gt['diagnostic'] = df_gt['diagnostic'].isin(['BCC', 'SCC', 'MEL']).astype(int)\n"
     ]
    },
    {
     "data": {
      "text/html": [
       "<div>\n",
       "<style scoped>\n",
       "    .dataframe tbody tr th:only-of-type {\n",
       "        vertical-align: middle;\n",
       "    }\n",
       "\n",
       "    .dataframe tbody tr th {\n",
       "        vertical-align: top;\n",
       "    }\n",
       "\n",
       "    .dataframe thead th {\n",
       "        text-align: right;\n",
       "    }\n",
       "</style>\n",
       "<table border=\"1\" class=\"dataframe\">\n",
       "  <thead>\n",
       "    <tr style=\"text-align: right;\">\n",
       "      <th></th>\n",
       "      <th>diagnostic</th>\n",
       "      <th>biopsed</th>\n",
       "      <th>img_id</th>\n",
       "    </tr>\n",
       "  </thead>\n",
       "  <tbody>\n",
       "    <tr>\n",
       "      <th>1</th>\n",
       "      <td>1</td>\n",
       "      <td>True</td>\n",
       "      <td>PAT_46_881_939.png</td>\n",
       "    </tr>\n",
       "    <tr>\n",
       "      <th>4</th>\n",
       "      <td>1</td>\n",
       "      <td>True</td>\n",
       "      <td>PAT_684_1302_588.png</td>\n",
       "    </tr>\n",
       "    <tr>\n",
       "      <th>6</th>\n",
       "      <td>1</td>\n",
       "      <td>True</td>\n",
       "      <td>PAT_778_1471_835.png</td>\n",
       "    </tr>\n",
       "    <tr>\n",
       "      <th>7</th>\n",
       "      <td>1</td>\n",
       "      <td>True</td>\n",
       "      <td>PAT_117_179_983.png</td>\n",
       "    </tr>\n",
       "    <tr>\n",
       "      <th>11</th>\n",
       "      <td>1</td>\n",
       "      <td>True</td>\n",
       "      <td>PAT_967_1827_247.png</td>\n",
       "    </tr>\n",
       "    <tr>\n",
       "      <th>...</th>\n",
       "      <td>...</td>\n",
       "      <td>...</td>\n",
       "      <td>...</td>\n",
       "    </tr>\n",
       "    <tr>\n",
       "      <th>2287</th>\n",
       "      <td>1</td>\n",
       "      <td>True</td>\n",
       "      <td>PAT_754_1429_380.png</td>\n",
       "    </tr>\n",
       "    <tr>\n",
       "      <th>2291</th>\n",
       "      <td>1</td>\n",
       "      <td>True</td>\n",
       "      <td>PAT_273_421_905.png</td>\n",
       "    </tr>\n",
       "    <tr>\n",
       "      <th>2292</th>\n",
       "      <td>1</td>\n",
       "      <td>True</td>\n",
       "      <td>PAT_491_934_46.png</td>\n",
       "    </tr>\n",
       "    <tr>\n",
       "      <th>2294</th>\n",
       "      <td>1</td>\n",
       "      <td>True</td>\n",
       "      <td>PAT_46_880_140.png</td>\n",
       "    </tr>\n",
       "    <tr>\n",
       "      <th>2296</th>\n",
       "      <td>1</td>\n",
       "      <td>True</td>\n",
       "      <td>PAT_326_690_823.png</td>\n",
       "    </tr>\n",
       "  </tbody>\n",
       "</table>\n",
       "<p>1089 rows × 3 columns</p>\n",
       "</div>"
      ],
      "text/plain": [
       "      diagnostic  biopsed                img_id\n",
       "1              1     True    PAT_46_881_939.png\n",
       "4              1     True  PAT_684_1302_588.png\n",
       "6              1     True  PAT_778_1471_835.png\n",
       "7              1     True   PAT_117_179_983.png\n",
       "11             1     True  PAT_967_1827_247.png\n",
       "...          ...      ...                   ...\n",
       "2287           1     True  PAT_754_1429_380.png\n",
       "2291           1     True   PAT_273_421_905.png\n",
       "2292           1     True    PAT_491_934_46.png\n",
       "2294           1     True    PAT_46_880_140.png\n",
       "2296           1     True   PAT_326_690_823.png\n",
       "\n",
       "[1089 rows x 3 columns]"
      ]
     },
     "execution_count": 55,
     "metadata": {},
     "output_type": "execute_result"
    }
   ],
   "source": [
    "import pandas as pd\n",
    "ground_truth = \"dataset.csv\"\n",
    "\n",
    "df1 = pd.read_csv(ground_truth)\n",
    "\n",
    "df_gt = df1[['diagnostic', 'biopsed', 'img_id']]\n",
    "df_gt['diagnostic'] = df_gt['diagnostic'].isin(['BCC', 'SCC', 'MEL']).astype(int)\n",
    "\n",
    "cancerous = df_gt[df_gt['diagnostic']==1]\n",
    "non_cancerous = df_gt[df_gt['diagnostic']==0]\n",
    "\n",
    "print(f'Total: {len(df1)}, no uplicates: {len(df1.drop_duplicates())}')\n",
    "print(f'Cancerous: {len(cancerous)}, non-cancerous: {len(non_cancerous)}, sum : {len(cancerous)+len(non_cancerous)}')\n",
    "print()\n",
    "cancerous"
   ]
  },
  {
   "cell_type": "markdown",
   "id": "4360e68a",
   "metadata": {},
   "source": [
    "Counting number of files - step after sorting"
   ]
  },
  {
   "cell_type": "code",
   "execution_count": 68,
   "id": "8076c057",
   "metadata": {},
   "outputs": [
    {
     "name": "stdout",
     "output_type": "stream",
     "text": [
      "Number of files part 1: 911\n"
     ]
    }
   ],
   "source": [
    "import os\n",
    "\n",
    "directory = './data/skin_images/part_1/' \n",
    "file_count1 = len([f for f in os.listdir(directory) if os.path.isfile(os.path.join(directory, f))])\n",
    "\n",
    "print(f\"Number of files part 1: {file_count1}\")"
   ]
  },
  {
   "cell_type": "code",
   "execution_count": 69,
   "id": "1f46767d",
   "metadata": {},
   "outputs": [
    {
     "name": "stdout",
     "output_type": "stream",
     "text": [
      "Number of files cancerous: 670\n"
     ]
    }
   ],
   "source": [
    "directory = './data/skin_images/cancerous/' \n",
    "file_count2 = len([f for f in os.listdir(directory) if os.path.isfile(os.path.join(directory, f))])\n",
    "\n",
    "print(f\"Number of files cancerous: {file_count2}\")"
   ]
  },
  {
   "cell_type": "code",
   "execution_count": 70,
   "id": "ef0b62b3",
   "metadata": {},
   "outputs": [
    {
     "name": "stdout",
     "output_type": "stream",
     "text": [
      "Number of files non-concerous: 241\n"
     ]
    }
   ],
   "source": [
    "directory = './data/skin_images/non_cancerous/' \n",
    "file_count3 = len([f for f in os.listdir(directory) if os.path.isfile(os.path.join(directory, f))])\n",
    "\n",
    "print(f\"Number of files non-concerous: {file_count3}\")\n"
   ]
  },
  {
   "cell_type": "code",
   "execution_count": 71,
   "id": "9a852b6f",
   "metadata": {},
   "outputs": [
    {
     "data": {
      "text/plain": [
       "True"
      ]
     },
     "execution_count": 71,
     "metadata": {},
     "output_type": "execute_result"
    }
   ],
   "source": [
    "file_count3 + file_count2 == file_count1"
   ]
  },
  {
   "cell_type": "markdown",
   "id": "68948e27",
   "metadata": {},
   "source": [
    "Sort the folders"
   ]
  },
  {
   "cell_type": "code",
   "execution_count": null,
   "id": "b04f18de",
   "metadata": {},
   "outputs": [],
   "source": [
    "\n",
    "import shutil\n",
    "\n",
    "source_dir = './data/skin_images/part_1/'\n",
    "target_dir = './data/skin_images/non_cancerous/'\n",
    "\n",
    "# Get list of image names (from the DataFrame column)\n",
    "image_list = non_cancerous['img_id'].str.strip().tolist()  # use 'img_id' if that's the column name\n",
    "\n",
    "# Loop and copy\n",
    "for img in image_list:\n",
    "    src_path = os.path.join(source_dir, img)\n",
    "    dst_path = os.path.join(target_dir, img)\n",
    "    if os.path.exists(src_path):\n",
    "        shutil.copy(src_path, dst_path)"
   ]
  },
  {
   "cell_type": "markdown",
   "id": "57a3e0a7",
   "metadata": {},
   "source": [
    "Data frame with files only from that directory"
   ]
  },
  {
   "cell_type": "code",
   "execution_count": 75,
   "id": "8131de72",
   "metadata": {},
   "outputs": [
    {
     "data": {
      "text/html": [
       "<div>\n",
       "<style scoped>\n",
       "    .dataframe tbody tr th:only-of-type {\n",
       "        vertical-align: middle;\n",
       "    }\n",
       "\n",
       "    .dataframe tbody tr th {\n",
       "        vertical-align: top;\n",
       "    }\n",
       "\n",
       "    .dataframe thead th {\n",
       "        text-align: right;\n",
       "    }\n",
       "</style>\n",
       "<table border=\"1\" class=\"dataframe\">\n",
       "  <thead>\n",
       "    <tr style=\"text-align: right;\">\n",
       "      <th></th>\n",
       "      <th>diagnostic</th>\n",
       "      <th>biopsed</th>\n",
       "      <th>img_id</th>\n",
       "    </tr>\n",
       "  </thead>\n",
       "  <tbody>\n",
       "    <tr>\n",
       "      <th>1</th>\n",
       "      <td>1</td>\n",
       "      <td>True</td>\n",
       "      <td>PAT_46_881_939.png</td>\n",
       "    </tr>\n",
       "    <tr>\n",
       "      <th>7</th>\n",
       "      <td>1</td>\n",
       "      <td>True</td>\n",
       "      <td>PAT_117_179_983.png</td>\n",
       "    </tr>\n",
       "    <tr>\n",
       "      <th>14</th>\n",
       "      <td>1</td>\n",
       "      <td>True</td>\n",
       "      <td>PAT_38_54_234.png</td>\n",
       "    </tr>\n",
       "    <tr>\n",
       "      <th>16</th>\n",
       "      <td>1</td>\n",
       "      <td>True</td>\n",
       "      <td>PAT_380_1540_959.png</td>\n",
       "    </tr>\n",
       "    <tr>\n",
       "      <th>24</th>\n",
       "      <td>1</td>\n",
       "      <td>True</td>\n",
       "      <td>PAT_106_159_325.png</td>\n",
       "    </tr>\n",
       "    <tr>\n",
       "      <th>...</th>\n",
       "      <td>...</td>\n",
       "      <td>...</td>\n",
       "      <td>...</td>\n",
       "    </tr>\n",
       "    <tr>\n",
       "      <th>2289</th>\n",
       "      <td>0</td>\n",
       "      <td>True</td>\n",
       "      <td>PAT_386_785_536.png</td>\n",
       "    </tr>\n",
       "    <tr>\n",
       "      <th>2291</th>\n",
       "      <td>1</td>\n",
       "      <td>True</td>\n",
       "      <td>PAT_273_421_905.png</td>\n",
       "    </tr>\n",
       "    <tr>\n",
       "      <th>2292</th>\n",
       "      <td>1</td>\n",
       "      <td>True</td>\n",
       "      <td>PAT_491_934_46.png</td>\n",
       "    </tr>\n",
       "    <tr>\n",
       "      <th>2294</th>\n",
       "      <td>1</td>\n",
       "      <td>True</td>\n",
       "      <td>PAT_46_880_140.png</td>\n",
       "    </tr>\n",
       "    <tr>\n",
       "      <th>2296</th>\n",
       "      <td>1</td>\n",
       "      <td>True</td>\n",
       "      <td>PAT_326_690_823.png</td>\n",
       "    </tr>\n",
       "  </tbody>\n",
       "</table>\n",
       "<p>911 rows × 3 columns</p>\n",
       "</div>"
      ],
      "text/plain": [
       "      diagnostic  biopsed                img_id\n",
       "1              1     True    PAT_46_881_939.png\n",
       "7              1     True   PAT_117_179_983.png\n",
       "14             1     True     PAT_38_54_234.png\n",
       "16             1     True  PAT_380_1540_959.png\n",
       "24             1     True   PAT_106_159_325.png\n",
       "...          ...      ...                   ...\n",
       "2289           0     True   PAT_386_785_536.png\n",
       "2291           1     True   PAT_273_421_905.png\n",
       "2292           1     True    PAT_491_934_46.png\n",
       "2294           1     True    PAT_46_880_140.png\n",
       "2296           1     True   PAT_326_690_823.png\n",
       "\n",
       "[911 rows x 3 columns]"
      ]
     },
     "execution_count": 75,
     "metadata": {},
     "output_type": "execute_result"
    }
   ],
   "source": [
    "image_folder = './data/skin_images/part_1/' \n",
    "file_names = [f for f in os.listdir(image_folder) if os.path.isfile(os.path.join(image_folder, f))]\n",
    "df_filtered = df_gt[df_gt['img_id'].isin(file_names)]\n",
    "df_filtered"
   ]
  },
  {
   "cell_type": "code",
   "execution_count": null,
   "id": "f336b39f",
   "metadata": {},
   "outputs": [
    {
     "name": "stderr",
     "output_type": "stream",
     "text": [
      "C:\\Users\\Andrius\\AppData\\Local\\Temp\\ipykernel_3076\\4252148340.py:11: SettingWithCopyWarning: \n",
      "A value is trying to be set on a copy of a slice from a DataFrame.\n",
      "Try using .loc[row_indexer,col_indexer] = value instead\n",
      "\n",
      "See the caveats in the documentation: https://pandas.pydata.org/pandas-docs/stable/user_guide/indexing.html#returning-a-view-versus-a-copy\n",
      "  df_gt['diagnostic'] = df_gt['diagnostic'].isin(['BCC', 'SCC', 'MEL']).astype(int)\n"
     ]
    },
    {
     "data": {
      "text/html": [
       "<div>\n",
       "<style scoped>\n",
       "    .dataframe tbody tr th:only-of-type {\n",
       "        vertical-align: middle;\n",
       "    }\n",
       "\n",
       "    .dataframe tbody tr th {\n",
       "        vertical-align: top;\n",
       "    }\n",
       "\n",
       "    .dataframe thead th {\n",
       "        text-align: right;\n",
       "    }\n",
       "</style>\n",
       "<table border=\"1\" class=\"dataframe\">\n",
       "  <thead>\n",
       "    <tr style=\"text-align: right;\">\n",
       "      <th></th>\n",
       "      <th>diagnostic</th>\n",
       "      <th>biopsed</th>\n",
       "      <th>img_id</th>\n",
       "    </tr>\n",
       "  </thead>\n",
       "  <tbody>\n",
       "    <tr>\n",
       "      <th>1</th>\n",
       "      <td>1</td>\n",
       "      <td>True</td>\n",
       "      <td>PAT_46_881_939.png</td>\n",
       "    </tr>\n",
       "    <tr>\n",
       "      <th>4</th>\n",
       "      <td>1</td>\n",
       "      <td>True</td>\n",
       "      <td>PAT_684_1302_588.png</td>\n",
       "    </tr>\n",
       "    <tr>\n",
       "      <th>6</th>\n",
       "      <td>1</td>\n",
       "      <td>True</td>\n",
       "      <td>PAT_778_1471_835.png</td>\n",
       "    </tr>\n",
       "    <tr>\n",
       "      <th>7</th>\n",
       "      <td>1</td>\n",
       "      <td>True</td>\n",
       "      <td>PAT_117_179_983.png</td>\n",
       "    </tr>\n",
       "    <tr>\n",
       "      <th>11</th>\n",
       "      <td>1</td>\n",
       "      <td>True</td>\n",
       "      <td>PAT_967_1827_247.png</td>\n",
       "    </tr>\n",
       "    <tr>\n",
       "      <th>...</th>\n",
       "      <td>...</td>\n",
       "      <td>...</td>\n",
       "      <td>...</td>\n",
       "    </tr>\n",
       "    <tr>\n",
       "      <th>2287</th>\n",
       "      <td>1</td>\n",
       "      <td>True</td>\n",
       "      <td>PAT_754_1429_380.png</td>\n",
       "    </tr>\n",
       "    <tr>\n",
       "      <th>2291</th>\n",
       "      <td>1</td>\n",
       "      <td>True</td>\n",
       "      <td>PAT_273_421_905.png</td>\n",
       "    </tr>\n",
       "    <tr>\n",
       "      <th>2292</th>\n",
       "      <td>1</td>\n",
       "      <td>True</td>\n",
       "      <td>PAT_491_934_46.png</td>\n",
       "    </tr>\n",
       "    <tr>\n",
       "      <th>2294</th>\n",
       "      <td>1</td>\n",
       "      <td>True</td>\n",
       "      <td>PAT_46_880_140.png</td>\n",
       "    </tr>\n",
       "    <tr>\n",
       "      <th>2296</th>\n",
       "      <td>1</td>\n",
       "      <td>True</td>\n",
       "      <td>PAT_326_690_823.png</td>\n",
       "    </tr>\n",
       "  </tbody>\n",
       "</table>\n",
       "<p>1089 rows × 3 columns</p>\n",
       "</div>"
      ],
      "text/plain": [
       "      diagnostic  biopsed                img_id\n",
       "1              1     True    PAT_46_881_939.png\n",
       "4              1     True  PAT_684_1302_588.png\n",
       "6              1     True  PAT_778_1471_835.png\n",
       "7              1     True   PAT_117_179_983.png\n",
       "11             1     True  PAT_967_1827_247.png\n",
       "...          ...      ...                   ...\n",
       "2287           1     True  PAT_754_1429_380.png\n",
       "2291           1     True   PAT_273_421_905.png\n",
       "2292           1     True    PAT_491_934_46.png\n",
       "2294           1     True    PAT_46_880_140.png\n",
       "2296           1     True   PAT_326_690_823.png\n",
       "\n",
       "[1089 rows x 3 columns]"
      ]
     },
     "execution_count": 50,
     "metadata": {},
     "output_type": "execute_result"
    }
   ],
   "source": [
    "\n",
    "features = \"./result/masked_out_images/extracted_features.csv\"\n",
    "ground_truth = \"dataset.csv\"\n",
    "\n",
    "#df = pd.read_csv(features)\n",
    "df2 = pd.read_csv(ground_truth)\n",
    "\n",
    "#df_f = df[['asymmetry', 'compactness', 'irregular_pigmentation', 'image_name']]\n",
    "df_gt = df2[['diagnostic', 'biopsed', 'img_id']]\n",
    "\n",
    "df_gt['diagnostic'] = df_gt['diagnostic'].isin(['BCC', 'SCC', 'MEL']).astype(int)\n",
    "\n",
    "#df_merged = pd.merge(df_f, df_gt, left_on='image_name', right_on='img_id', how='inner')\n",
    "#mel_only\n",
    "#df_f\n",
    "#len(mel_only)\n",
    "#df_gt\n",
    "#df_merged\n",
    "\n",
    "df_gt[df_gt['diagnostic']==1]"
   ]
  },
  {
   "cell_type": "code",
   "execution_count": null,
   "id": "b3b25859",
   "metadata": {},
   "outputs": [],
   "source": [
    "from sklearn.model_selection import train_test_split\n",
    "\n"
   ]
  }
 ],
 "metadata": {
  "kernelspec": {
   "display_name": "base",
   "language": "python",
   "name": "python3"
  },
  "language_info": {
   "codemirror_mode": {
    "name": "ipython",
    "version": 3
   },
   "file_extension": ".py",
   "mimetype": "text/x-python",
   "name": "python",
   "nbconvert_exporter": "python",
   "pygments_lexer": "ipython3",
   "version": "3.12.7"
  }
 },
 "nbformat": 4,
 "nbformat_minor": 5
}
